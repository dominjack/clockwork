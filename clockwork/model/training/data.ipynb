{
 "cells": [
  {
   "cell_type": "code",
   "execution_count": 1,
   "id": "5ba12fe0",
   "metadata": {},
   "outputs": [],
   "source": [
    "%load_ext autoreload\n",
    "%autoreload 2\n",
    "\n",
    "import os\n",
    "import sys\n",
    "\n",
    "# Get the absolute path of the directory where the notebook is running\n",
    "notebook_dir = os.getcwd()\n",
    "module_path = os.path.abspath(os.path.join(notebook_dir, '..'))\n",
    "\n",
    "if module_path not in sys.path:\n",
    "    sys.path.append(module_path)\n",
    "\n",
    "from model.helper import board_to_representation, move_to_index\n",
    "\n",
    "# ... your other imports ...\n",
    "import chess.pgn\n",
    "import chess.polyglot\n",
    "from sklearn.model_selection import train_test_split\n",
    "from tqdm import tqdm\n",
    "import torch\n",
    "import random\n",
    "import numpy as np"
   ]
  },
  {
   "cell_type": "code",
   "execution_count": 2,
   "id": "3dfe4588",
   "metadata": {},
   "outputs": [
    {
     "name": "stdout",
     "output_type": "stream",
     "text": [
      "mkdir: cannot create directory ‘../data’: File exists\n"
     ]
    }
   ],
   "source": [
    "!mkdir ../data\n",
    "!mkdir ../data/torch\n",
    "!mkdir ../data/torch/test\n",
    "!mkdir ../data/torch/train\n",
    "!mkdir ../data/torch/val\n",
    "\n"
   ]
  },
  {
   "cell_type": "code",
   "execution_count": 3,
   "id": "18bc4be7",
   "metadata": {},
   "outputs": [
    {
     "name": "stdout",
     "output_type": "stream",
     "text": [
      "  % Total    % Received % Xferd  Average Speed   Time    Time     Time  Current\n",
      "                                 Dload  Upload   Total   Spent    Left  Speed\n",
      "100 79.7M  100 79.7M    0     0  68.0M      0  0:00:01  0:00:01 --:--:-- 68.0M\n",
      "Archive:  ../data/lichess_elite_2025-07.zip\n",
      "replace ../data/lichess_elite_2025-07.pgn? [y]es, [n]o, [A]ll, [N]one, [r]ename: ^C\n"
     ]
    }
   ],
   "source": [
    "\n",
    "!curl https://database.nikonoel.fr/lichess_elite_2025-07.zip --output ../data/lichess_elite_2025-07.zip\n",
    "!unzip ../data/lichess_elite_2025-07.zip -d ../data"
   ]
  },
  {
   "cell_type": "code",
   "execution_count": 3,
   "id": "322380ac",
   "metadata": {},
   "outputs": [],
   "source": [
    "pgn = open(\"../data/lichess_elite_2025-07.pgn\")"
   ]
  },
  {
   "cell_type": "code",
   "execution_count": 4,
   "id": "f359fff9",
   "metadata": {},
   "outputs": [],
   "source": [
    "data_dict = {}\n",
    "position_tuples = []\n",
    "batch_size = 10000"
   ]
  },
  {
   "cell_type": "code",
   "execution_count": 5,
   "id": "e1ac11d6",
   "metadata": {},
   "outputs": [
    {
     "name": "stderr",
     "output_type": "stream",
     "text": [
      "  0%|          | 0/75000 [00:00<?, ?it/s]"
     ]
    },
    {
     "name": "stderr",
     "output_type": "stream",
     "text": [
      " 80%|████████  | 60063/75000 [11:30<02:51, 87.00it/s] \n"
     ]
    },
    {
     "ename": "KeyboardInterrupt",
     "evalue": "",
     "output_type": "error",
     "traceback": [
      "\u001b[0;31m---------------------------------------------------------------------------\u001b[0m",
      "\u001b[0;31mKeyboardInterrupt\u001b[0m                         Traceback (most recent call last)",
      "Cell \u001b[0;32mIn[5], line 7\u001b[0m\n\u001b[1;32m      5\u001b[0m \u001b[38;5;28;01mfor\u001b[39;00m move \u001b[38;5;129;01min\u001b[39;00m game\u001b[38;5;241m.\u001b[39mmainline_moves():\n\u001b[1;32m      6\u001b[0m     _result \u001b[38;5;241m=\u001b[39m result\u001b[38;5;66;03m#-result if board.turn == chess.BLACK else result\u001b[39;00m\n\u001b[0;32m----> 7\u001b[0m     _hash \u001b[38;5;241m=\u001b[39m \u001b[43mchess\u001b[49m\u001b[38;5;241;43m.\u001b[39;49m\u001b[43mpolyglot\u001b[49m\u001b[38;5;241;43m.\u001b[39;49m\u001b[43mzobrist_hash\u001b[49m\u001b[43m(\u001b[49m\u001b[43mboard\u001b[49m\u001b[43m)\u001b[49m\n\u001b[1;32m      8\u001b[0m     data \u001b[38;5;241m=\u001b[39m data_dict\u001b[38;5;241m.\u001b[39mget(_hash)\n\u001b[1;32m      9\u001b[0m     representation \u001b[38;5;241m=\u001b[39m board_to_representation(board)\n",
      "File \u001b[0;32m/usr/miniconda3/envs/torch/lib/python3.10/site-packages/chess/polyglot.py:283\u001b[0m, in \u001b[0;36mzobrist_hash\u001b[0;34m(board, _hasher)\u001b[0m\n\u001b[1;32m    274\u001b[0m \u001b[38;5;28;01mdef\u001b[39;00m\u001b[38;5;250m \u001b[39m\u001b[38;5;21mzobrist_hash\u001b[39m(board: chess\u001b[38;5;241m.\u001b[39mBoard, \u001b[38;5;241m*\u001b[39m, _hasher: Callable[[chess\u001b[38;5;241m.\u001b[39mBoard], \u001b[38;5;28mint\u001b[39m] \u001b[38;5;241m=\u001b[39m ZobristHasher(POLYGLOT_RANDOM_ARRAY)) \u001b[38;5;241m-\u001b[39m\u001b[38;5;241m>\u001b[39m \u001b[38;5;28mint\u001b[39m:\n\u001b[1;32m    275\u001b[0m \u001b[38;5;250m    \u001b[39m\u001b[38;5;124;03m\"\"\"\u001b[39;00m\n\u001b[1;32m    276\u001b[0m \u001b[38;5;124;03m    Calculates the Polyglot Zobrist hash of the position.\u001b[39;00m\n\u001b[1;32m    277\u001b[0m \n\u001b[0;32m   (...)\u001b[0m\n\u001b[1;32m    281\u001b[0m \u001b[38;5;124;03m    squares.\u001b[39;00m\n\u001b[1;32m    282\u001b[0m \u001b[38;5;124;03m    \"\"\"\u001b[39;00m\n\u001b[0;32m--> 283\u001b[0m     \u001b[38;5;28;01mreturn\u001b[39;00m \u001b[43m_hasher\u001b[49m\u001b[43m(\u001b[49m\u001b[43mboard\u001b[49m\u001b[43m)\u001b[49m\n",
      "File \u001b[0;32m/usr/miniconda3/envs/torch/lib/python3.10/site-packages/chess/polyglot.py:270\u001b[0m, in \u001b[0;36mZobristHasher.__call__\u001b[0;34m(self, board)\u001b[0m\n\u001b[1;32m    269\u001b[0m \u001b[38;5;28;01mdef\u001b[39;00m\u001b[38;5;250m \u001b[39m\u001b[38;5;21m__call__\u001b[39m(\u001b[38;5;28mself\u001b[39m, board: chess\u001b[38;5;241m.\u001b[39mBoard) \u001b[38;5;241m-\u001b[39m\u001b[38;5;241m>\u001b[39m \u001b[38;5;28mint\u001b[39m:\n\u001b[0;32m--> 270\u001b[0m     \u001b[38;5;28;01mreturn\u001b[39;00m (\u001b[38;5;28;43mself\u001b[39;49m\u001b[38;5;241;43m.\u001b[39;49m\u001b[43mhash_board\u001b[49m\u001b[43m(\u001b[49m\u001b[43mboard\u001b[49m\u001b[43m)\u001b[49m \u001b[38;5;241m^\u001b[39m \u001b[38;5;28mself\u001b[39m\u001b[38;5;241m.\u001b[39mhash_castling(board) \u001b[38;5;241m^\u001b[39m\n\u001b[1;32m    271\u001b[0m             \u001b[38;5;28mself\u001b[39m\u001b[38;5;241m.\u001b[39mhash_ep_square(board) \u001b[38;5;241m^\u001b[39m \u001b[38;5;28mself\u001b[39m\u001b[38;5;241m.\u001b[39mhash_turn(board))\n",
      "File \u001b[0;32m/usr/miniconda3/envs/torch/lib/python3.10/site-packages/chess/polyglot.py:225\u001b[0m, in \u001b[0;36mZobristHasher.hash_board\u001b[0;34m(self, board)\u001b[0m\n\u001b[1;32m    222\u001b[0m     \u001b[38;5;28;01massert\u001b[39;00m \u001b[38;5;28mlen\u001b[39m(array) \u001b[38;5;241m>\u001b[39m\u001b[38;5;241m=\u001b[39m \u001b[38;5;241m781\u001b[39m\n\u001b[1;32m    223\u001b[0m     \u001b[38;5;28mself\u001b[39m\u001b[38;5;241m.\u001b[39marray \u001b[38;5;241m=\u001b[39m array\n\u001b[0;32m--> 225\u001b[0m \u001b[38;5;28;01mdef\u001b[39;00m\u001b[38;5;250m \u001b[39m\u001b[38;5;21mhash_board\u001b[39m(\u001b[38;5;28mself\u001b[39m, board: chess\u001b[38;5;241m.\u001b[39mBaseBoard) \u001b[38;5;241m-\u001b[39m\u001b[38;5;241m>\u001b[39m \u001b[38;5;28mint\u001b[39m:\n\u001b[1;32m    226\u001b[0m     zobrist_hash \u001b[38;5;241m=\u001b[39m \u001b[38;5;241m0\u001b[39m\n\u001b[1;32m    228\u001b[0m     \u001b[38;5;28;01mfor\u001b[39;00m pivot, squares \u001b[38;5;129;01min\u001b[39;00m \u001b[38;5;28menumerate\u001b[39m(board\u001b[38;5;241m.\u001b[39moccupied_co):\n",
      "\u001b[0;31mKeyboardInterrupt\u001b[0m: "
     ]
    }
   ],
   "source": [
    "for a in tqdm(range(75000)):\n",
    "    game = chess.pgn.read_game(pgn)\n",
    "    result = {\"1-0\":1.0, \"0-1\":-1.0, \"1/2-1/2\":0.0}[game.headers.get(\"Result\")]\n",
    "    board = game.board()\n",
    "    for move in game.mainline_moves():\n",
    "        _result = result#-result if board.turn == chess.BLACK else result\n",
    "        _hash = chess.polyglot.zobrist_hash(board)\n",
    "        data = data_dict.get(_hash)\n",
    "        representation = board_to_representation(board)\n",
    "        move_representation = move_to_index(move)\n",
    "        if data == None:\n",
    "            data_dict[_hash] = {\n",
    "                \"representation\": representation,\n",
    "                \"policy\": move_representation,\n",
    "                \"value\": _result,\n",
    "                \"results\": [_result]\n",
    "            }\n",
    "        else:\n",
    "            data_dict[_hash][\"results\"].append(_result)\n",
    "            data_dict[_hash][\"value\"] = float(np.mean(data_dict[_hash][\"results\"]))\n",
    " \n",
    "        board.push(move)\n",
    "\n",
    "        \n"
   ]
  },
  {
   "cell_type": "code",
   "execution_count": 6,
   "id": "4e5822c7",
   "metadata": {},
   "outputs": [
    {
     "data": {
      "text/plain": [
       "4509269"
      ]
     },
     "execution_count": 6,
     "metadata": {},
     "output_type": "execute_result"
    }
   ],
   "source": [
    "position_tuples = list(data_dict.values())\n",
    "len(position_tuples)\n",
    "    "
   ]
  },
  {
   "cell_type": "code",
   "execution_count": 7,
   "id": "551cb303",
   "metadata": {},
   "outputs": [
    {
     "name": "stdout",
     "output_type": "stream",
     "text": [
      "4048195 225464 235610\n"
     ]
    }
   ],
   "source": [
    "temp_data, test_data = train_test_split(position_tuples, test_size=0.05, random_state=42)\n",
    "train_data, val_data = train_test_split(temp_data, test_size=0.055, random_state=42)\n",
    "\n",
    "random.shuffle(train_data)\n",
    "random.shuffle(test_data)\n",
    "random.shuffle(val_data)\n",
    "\n",
    "print(len(train_data), len(test_data), len(val_data))"
   ]
  },
  {
   "cell_type": "code",
   "execution_count": 8,
   "id": "d17ba18e",
   "metadata": {},
   "outputs": [],
   "source": [
    "file_counter = 0\n",
    "while len(train_data) >= batch_size:\n",
    "    output_path = f\"../data/torch/train/data_chunk_{file_counter}.pt\"\n",
    "    torch.save(train_data[:batch_size], output_path)\n",
    "    train_data = train_data[batch_size:]\n",
    "    file_counter += 1\n",
    "\n",
    "\n",
    "file_counter = 0\n",
    "while len(test_data) >= batch_size:\n",
    "    output_path = f\"../data/torch/test/data_chunk_{file_counter}.pt\"\n",
    "    torch.save(test_data[:batch_size], output_path)\n",
    "    test_data = test_data[batch_size:]\n",
    "    file_counter += 1\n",
    "\n",
    "\n",
    "file_counter = 0\n",
    "while len(val_data) >= batch_size:\n",
    "    output_path = f\"../data/torch/val/data_chunk_{file_counter}.pt\"\n",
    "    torch.save(val_data[:batch_size], output_path)\n",
    "    val_data = val_data[batch_size:]\n",
    "    file_counter += 1"
   ]
  }
 ],
 "metadata": {
  "kernelspec": {
   "display_name": "torch",
   "language": "python",
   "name": "python3"
  },
  "language_info": {
   "codemirror_mode": {
    "name": "ipython",
    "version": 3
   },
   "file_extension": ".py",
   "mimetype": "text/x-python",
   "name": "python",
   "nbconvert_exporter": "python",
   "pygments_lexer": "ipython3",
   "version": "3.10.19"
  }
 },
 "nbformat": 4,
 "nbformat_minor": 5
}
